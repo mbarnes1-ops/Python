{
 "cells": [
  {
   "cell_type": "markdown",
   "metadata": {},
   "source": [
    "# Day 3 \n",
    "Things covered:\n",
    "- Control Flow with if/else statements\n",
    "- Conditional Operators\n",
    "- Nested Statements\n",
    "- Logical Operators\n",
    "- Code Blocks\n",
    "- Scope\n",
    "- Day three project: Treasure Island"
   ]
  },
  {
   "cell_type": "markdown",
   "metadata": {},
   "source": [
    "## Conditional Statments\n",
    "\n",
    "- if/else: depending on a particular condition, do one thing or another.\n",
    "- They must evaluate to true or false, a binary option.\n",
    "```\n",
    "if condition:\n",
    "    do this\n",
    "else:\n",
    "    do this\n",
    " ```\n",
    " "
   ]
  },
  {
   "cell_type": "code",
   "execution_count": 1,
   "metadata": {},
   "outputs": [
    {
     "name": "stdout",
     "output_type": "stream",
     "text": [
      "Continue\n"
     ]
    }
   ],
   "source": [
    "#example is a mechanism to not have a bathtub overflow\n",
    "water_level = 50\n",
    "if water_level > 80: #checks to see if water level is greater than 80. If 80 exactly, will be in else block.\n",
    "    print(\"Drain water\")\n",
    "else:\n",
    "    print(\"Continue\")"
   ]
  },
  {
   "cell_type": "code",
   "execution_count": 3,
   "metadata": {},
   "outputs": [
    {
     "name": "stdout",
     "output_type": "stream",
     "text": [
      "Welcome to the rollercoaster!\n",
      "What is your height in cm? 130\n",
      "You can ride the rollercoaster!\n"
     ]
    }
   ],
   "source": [
    "#Writing code to replace the ticket box. If is true\n",
    "print(\"Welcome to the rollercoaster!\")\n",
    "#Get user's height for later\n",
    "height = int(input(\"What is your height in cm? \"))\n",
    "#Check the user's height to see if > or = 120cm\n",
    "if height >= 120:  #120 is included in the if block\n",
    "    print(\"You can ride the rollercoaster!\") #printed if conditional is true. Identation is critical. Block lives inside the \"If\" statment\n",
    "else:\n",
    "    print(\"Sorry, you must be this tall to ride.\") #printed if conditional is false. Indentation is critical. Block lives inside the \"else\" statement\n"
   ]
  },
  {
   "cell_type": "code",
   "execution_count": 4,
   "metadata": {},
   "outputs": [
    {
     "name": "stdout",
     "output_type": "stream",
     "text": [
      "Welcome to the rollercoaster!\n",
      "What is your height in cm? 90\n",
      "Sorry, you must be this tall to ride.\n"
     ]
    }
   ],
   "source": [
    "#Writing code to replace the ticket box. Else is true\n",
    "print(\"Welcome to the rollercoaster!\")\n",
    "#Get user's height for later\n",
    "height = int(input(\"What is your height in cm? \"))\n",
    "#Check the user's height to see if > or = 120cm\n",
    "if height >= 120: #120 is included in the if block\n",
    "    print(\"You can ride the rollercoaster!\") #printed if conditional is true. Identation is critical. Block lives inside the \"If\" statment\n",
    "else:\n",
    "    print(\"Sorry, you must be this tall to ride.\") #printed if conditional is false. Indentation is critical. Block lives inside the \"else\" statement\n"
   ]
  },
  {
   "cell_type": "markdown",
   "metadata": {},
   "source": [
    "## Comparison Operators\n",
    "- `>` Greater than\n",
    "- < Lesser than\n",
    "- `>=` Greater than or equal to\n",
    "- <= Lesser than or equal to\n",
    "- == equal to\n",
    "- != not equal to\n",
    "\n",
    "**Important note about equal signs in Python:**\n",
    "- = is assignment of a value to a variable\n",
    "- == is checking to see if the value on the left is equal to the value on the right. "
   ]
  },
  {
   "cell_type": "markdown",
   "metadata": {},
   "source": [
    "### Day 3.1 Coding Challenge: Odds or Evens\n",
    "- https://repl.it/@mbarnes1ops/day-3-1-exercise"
   ]
  },
  {
   "cell_type": "code",
   "execution_count": 13,
   "metadata": {},
   "outputs": [
    {
     "data": {
      "text/plain": [
       "0"
      ]
     },
     "execution_count": 13,
     "metadata": {},
     "output_type": "execute_result"
    }
   ],
   "source": [
    "124 % 2 #% is called modulo, checks to see if there is a remainder when dividing or not, and displays the remainder if so."
   ]
  },
  {
   "cell_type": "code",
   "execution_count": 17,
   "metadata": {},
   "outputs": [
    {
     "name": "stdout",
     "output_type": "stream",
     "text": [
      "Which number do you want to check? 1234\n",
      "This is an even number.\n"
     ]
    }
   ],
   "source": [
    "number = int(input(\"Which number do you want to check? \"))\n",
    "if number % 2 == 0:\n",
    "    print(\"This is an even number.\")\n",
    "else:\n",
    "    print(\"This is an odd number.\")"
   ]
  },
  {
   "cell_type": "markdown",
   "metadata": {},
   "source": [
    "## Nested if statements\n",
    "\n",
    "- returning to the example of the ticket booth above, we have a new wrinkle, price. \n",
    "- if they older than 18 they will pay one price, and if 18 or younger another.\n",
    "- This extra condition can be shown by a Nested if/else statement\n",
    "```\n",
    "if condition:\n",
    "    if another condition:\n",
    "        do this\n",
    "    else:\n",
    "        do this\n",
    "else:\n",
    "    do this\n",
    "```\n",
    "- the computer looks at the larger condition first, and decides if it should go into the if block or the else block. If it goes into if block, then it looks at the nested block, and runs the conditional found."
   ]
  },
  {
   "cell_type": "code",
   "execution_count": 18,
   "metadata": {},
   "outputs": [
    {
     "name": "stdout",
     "output_type": "stream",
     "text": [
      "Welcome to the rollercoaster!\n",
      "What is your height in cm? 123\n",
      "You can ride the rollercoaster!\n",
      "What is your age? 19\n",
      "Please pay $12.\n"
     ]
    }
   ],
   "source": [
    "#ticket taking, part 2, nested if statements\n",
    "print(\"Welcome to the rollercoaster!\")\n",
    "height = int(input(\"What is your height in cm? \"))\n",
    "if height >= 120:\n",
    "    print(\"You can ride the rollercoaster!\")\n",
    "    age = int(input(\"What is your age? \"))\n",
    "    if age <= 18:\n",
    "        print(\"Please pay $7.\")\n",
    "    else:\n",
    "        print(\"Please pay $12.\")\n",
    "else:\n",
    "    print(\"Sorry, you must be this tall to ride.\")"
   ]
  },
  {
   "cell_type": "markdown",
   "metadata": {},
   "source": [
    "## elif (else if)\n",
    "\n",
    "- If three possibilities in and if statement, need to use elif.\n",
    "- Example of tickets, now there are 3 price tiers, younger than 12, between 12-18, and over 18.\n",
    "- can add as many elif conditions as we might want.\n",
    "```\n",
    "if condition1:\n",
    "    do A\n",
    "elif condition2:\n",
    "    do B\n",
    "else:\n",
    "    do this\n",
    "```"
   ]
  },
  {
   "cell_type": "code",
   "execution_count": 21,
   "metadata": {},
   "outputs": [
    {
     "name": "stdout",
     "output_type": "stream",
     "text": [
      "Welcome to the rollercoaster!\n",
      "What is your height in cm? 122\n",
      "You can ride the rollercoaster!\n",
      "What is your age? 32\n",
      "Please pay $12.\n"
     ]
    }
   ],
   "source": [
    "#ticket taking, part 3, elif statements\n",
    "print(\"Welcome to the rollercoaster!\")\n",
    "height = int(input(\"What is your height in cm? \"))\n",
    "if height >= 120:\n",
    "    print(\"You can ride the rollercoaster!\")\n",
    "    age = int(input(\"What is your age? \"))\n",
    "    if age < 12: #change age to match new prompt\n",
    "        print(\"Please pay $5.\") #changed price to match new prompt\n",
    "    elif age <= 18: #added elif statement, to see if person is between 12 and 18\n",
    "        print(\"Please pay $7.\")\n",
    "    else:\n",
    "        print(\"Please pay $12.\")\n",
    "else:\n",
    "    print(\"Sorry, you must be this tall to ride.\")"
   ]
  },
  {
   "cell_type": "markdown",
   "metadata": {},
   "source": [
    "### Day 3.2 Coding Challenge: BMI 2.0\n",
    "- https://repl.it/@mbarnes1ops/day-3-2-exercise#README.md"
   ]
  },
  {
   "cell_type": "code",
   "execution_count": 29,
   "metadata": {},
   "outputs": [
    {
     "name": "stdout",
     "output_type": "stream",
     "text": [
      "enter your height in m: 1.75\n",
      "enter your weight in kg: 85\n",
      "Your BMI is 28, you are slightly overweight.\n"
     ]
    }
   ],
   "source": [
    "#original solution\n",
    "height = float(input(\"enter your height in m: \"))\n",
    "weight = float(input(\"enter your weight in kg: \"))\n",
    "bmi = round(weight / height ** 2)\n",
    "#if and elif statements which run based on user input given.\n",
    "if bmi < 18.5:\n",
    "    print(f\"Your BMI is {bmi}, you are underweight.\")\n",
    "elif bmi <= 25:\n",
    "    print(f\"Your BMI is {bmi}, you have a normal weight.\")\n",
    "elif bmi <= 30:\n",
    "    print(f\"Your BMI is {bmi}, you are slightly overweight.\")\n",
    "elif bmi <= 35:\n",
    "    print(f\"Your BMI is {bmi}, you are obese.\")\n",
    "else:\n",
    "    print(f\"Your BMI is {bmi}, you are clinically obese.\")"
   ]
  },
  {
   "cell_type": "markdown",
   "metadata": {},
   "source": [
    "### Day 3.3 Coding Challenge: Leap Year\n",
    "- https://repl.it/@mbarnes1ops/day-3-3-exercise#README.md"
   ]
  },
  {
   "cell_type": "markdown",
   "metadata": {},
   "source": [
    "![Leap Year Flow Chart](https://github.com/mbarnes1-ops/Python/blob/MainBranch/100%20days/Leap%20Year%20Code.png?raw=true)"
   ]
  },
  {
   "cell_type": "code",
   "execution_count": 36,
   "metadata": {},
   "outputs": [
    {
     "name": "stdout",
     "output_type": "stream",
     "text": [
      "Which year do you want to check? 2021\n",
      "Not leap year.\n"
     ]
    }
   ],
   "source": [
    "year = int(input(\"Which year do you want to check? \"))\n",
    "if year % 4 == 0:\n",
    "    if year % 100 == 0:\n",
    "        if year % 400 == 0:\n",
    "            print(\"Leap year.\")\n",
    "        else:\n",
    "            print(\"Not leap year.\")\n",
    "    else:\n",
    "        print(\"Leap year.\")\n",
    "else:\n",
    "    print(\"Not leap year.\")\n",
    "            \n",
    "    "
   ]
  },
  {
   "cell_type": "markdown",
   "metadata": {},
   "source": [
    "## Multiple if statements in sucession\n",
    "\n",
    "- back to the rollercoaster problem, does the person want to buy a picture at the end? This is independent of their age or their height, this is an extra question. \n",
    "- to do this, we would write multiple if conditions.\n",
    "```\n",
    "if condition1:\n",
    "    do A\n",
    "if condition2:\n",
    "    do B\n",
    "if condition3:\n",
    "    do C\n",
    "```\n",
    "- unlike elif statements, all three conditions could be true, or 2 could be, and thus we need to code for this possiblity. \n",
    "\n"
   ]
  },
  {
   "cell_type": "code",
   "execution_count": 39,
   "metadata": {},
   "outputs": [
    {
     "name": "stdout",
     "output_type": "stream",
     "text": [
      "Welcome to the rollercoaster!\n",
      "What is your height in cm? 120\n",
      "You can ride the rollercoaster!\n",
      "What is your age? 21\n",
      "Adult tickets are $12.\n",
      "Do you want a photo taken? Y or N. Y\n",
      "Your final bill is $15.\n"
     ]
    }
   ],
   "source": [
    "#ticket taking, part 4, multiple if statements\n",
    "print(\"Welcome to the rollercoaster!\")\n",
    "height = int(input(\"What is your height in cm? \"))\n",
    "bill = 0 #added variable for bill\n",
    "if height >= 120:\n",
    "    print(\"You can ride the rollercoaster!\")\n",
    "    age = int(input(\"What is your age? \"))\n",
    "    if age < 12: \n",
    "        bill = 5  #bill change based on age\n",
    "        print(\"Child tickets are $5.\") #changed print to match that price may change\n",
    "    elif age <= 18: \n",
    "        bill = 7  #bill change based on age\n",
    "        print(\"Youth tickets are $7.\")\n",
    "    else:\n",
    "        bill = 12  #bill change based on age\n",
    "        print(\"Adult tickets are $12.\") \n",
    "    wants_photo = input(\"Do you want a photo taken? Y or N. \")  #added input to see if photo wanted\n",
    "    if wants_photo == \"Y\": #final condition added to see if they want a photo\n",
    "        bill += 3  #bill is now higher if they want a photo\n",
    "    print(f\"Your final bill is ${bill}.\")  #final bill tally\n",
    "else:\n",
    "    print(\"Sorry, you must be this tall to ride.\")"
   ]
  },
  {
   "cell_type": "markdown",
   "metadata": {},
   "source": [
    "### Day 3.4 Coding challenge: Pizza Order\n",
    "- https://repl.it/@mbarnes1ops/day-3-4-exercise#README.md"
   ]
  },
  {
   "cell_type": "code",
   "execution_count": 50,
   "metadata": {},
   "outputs": [
    {
     "name": "stdout",
     "output_type": "stream",
     "text": [
      "Welcome to Python Pizza Deliveries!\n",
      "What size pizza do you want? S, M, or L L\n",
      "Do you want pepperoni? Y or N Y\n",
      "Do you want extra cheese? Y or N N\n",
      "Your final bill is: $28.\n"
     ]
    }
   ],
   "source": [
    "#original solution\n",
    "print(\"Welcome to Python Pizza Deliveries!\")\n",
    "size = input(\"What size pizza do you want? S, M, or L \")\n",
    "add_pepperoni = input(\"Do you want pepperoni? Y or N \")\n",
    "extra_cheese = input(\"Do you want extra cheese? Y or N \")\n",
    "bill = 0\n",
    "if size == \"S\":\n",
    "    bill = 15\n",
    "elif size == \"M\":\n",
    "    bill = 20\n",
    "elif size == \"L\":\n",
    "    bill = 25\n",
    "if add_pepperoni == \"Y\":\n",
    "    if size == \"S\":\n",
    "        bill += 2\n",
    "    elif size == \"M\":\n",
    "        bill += 3\n",
    "    elif size == \"L\":\n",
    "        bill += 3\n",
    "if extra_cheese == \"Y\":\n",
    "    bill += 1\n",
    "print(f\"Your final bill is: ${bill}.\")"
   ]
  },
  {
   "cell_type": "code",
   "execution_count": 51,
   "metadata": {},
   "outputs": [
    {
     "name": "stdout",
     "output_type": "stream",
     "text": [
      "Welcome to Python Pizza Deliveries!\n",
      "What size pizza do you want? S, M, or L M\n",
      "Do you want pepperoni? Y or N Y\n",
      "Do you want extra cheese? Y or N N\n",
      "Your final bill is: $23.\n"
     ]
    }
   ],
   "source": [
    "#another solution\n",
    "print(\"Welcome to Python Pizza Deliveries!\")\n",
    "size = input(\"What size pizza do you want? S, M, or L \")\n",
    "add_pepperoni = input(\"Do you want pepperoni? Y or N \")\n",
    "extra_cheese = input(\"Do you want extra cheese? Y or N \")\n",
    "bill = 0\n",
    "if size == \"S\":\n",
    "    bill += 15\n",
    "elif size == \"M\":\n",
    "    bill += 20\n",
    "else:   #used else statement instead of elif, one way to do it, oculd lead to users being overcharged if they put in wrong value.\n",
    "    bill += 25\n",
    "if add_pepperoni == \"Y\":\n",
    "    if size == \"S\":\n",
    "        bill += 2\n",
    "    else:   #used else statement as it is simpler than elif as both M/L are same price increase.\n",
    "        bill += 3\n",
    "if extra_cheese == \"Y\":\n",
    "    bill += 1\n",
    "print(f\"Your final bill is: ${bill}.\")"
   ]
  }
 ],
 "metadata": {
  "kernelspec": {
   "display_name": "Python 3",
   "language": "python",
   "name": "python3"
  },
  "language_info": {
   "codemirror_mode": {
    "name": "ipython",
    "version": 3
   },
   "file_extension": ".py",
   "mimetype": "text/x-python",
   "name": "python",
   "nbconvert_exporter": "python",
   "pygments_lexer": "ipython3",
   "version": "3.8.5"
  }
 },
 "nbformat": 4,
 "nbformat_minor": 4
}
