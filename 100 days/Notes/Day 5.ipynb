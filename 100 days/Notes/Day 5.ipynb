{
 "cells": [
  {
   "cell_type": "markdown",
   "id": "80a099e2",
   "metadata": {},
   "source": [
    "## Day 5: Loops, range, and Code Blocks"
   ]
  },
  {
   "cell_type": "markdown",
   "id": "4b371cc3",
   "metadata": {},
   "source": [
    "### Loops\n",
    "- For: for item in list_of_items:\n",
    "    #Do something to each item\n",
    "- iterates through a list or other code in sucession. Goes until it iterates through all the possibilities. \n",
    "- anything indented after a : is part of the loop or other code block. indentation is crucial%\n",
    " "
   ]
  },
  {
   "cell_type": "code",
   "execution_count": 3,
   "id": "12880d16",
   "metadata": {
    "scrolled": true
   },
   "outputs": [
    {
     "name": "stdout",
     "output_type": "stream",
     "text": [
      "Apple\n",
      "Apple Pie\n",
      "Peach\n",
      "Peach Pie\n",
      "Pear\n",
      "Pear Pie\n",
      "['Apple', 'Peach', 'Pear']\n"
     ]
    }
   ],
   "source": [
    "fruits = [\"Apple\", \"Peach\", \"Pear\"]\n",
    "for fruit in fruits: # give the new variable a name, then assigned to each string in the list.\n",
    "    print(fruit)\n",
    "    print(fruit + \" Pie\")\n",
    "print(fruits)"
   ]
  },
  {
   "cell_type": "code",
   "execution_count": 4,
   "id": "e7e9df1e",
   "metadata": {},
   "outputs": [
    {
     "name": "stdout",
     "output_type": "stream",
     "text": [
      "Input a list of student heights 123 124 198 135\n",
      "145\n"
     ]
    }
   ],
   "source": [
    "# Average height without using sum or len\n",
    "# 🚨 Don't change the code below 👇\n",
    "student_heights = input(\"Input a list of student heights \").split()\n",
    "for n in range(0, len(student_heights)):\n",
    "  student_heights[n] = int(student_heights[n])\n",
    "# 🚨 Don't change the code above 👆\n",
    "#Write your code below this row 👇\n",
    "total_height = 0\n",
    "number_students = 0\n",
    "for height in student_heights:\n",
    "    total_height += height\n",
    "    number_students += 1\n",
    "average_height = round(total_height / number_students)\n",
    "print(average_height)"
   ]
  },
  {
   "cell_type": "code",
   "execution_count": 5,
   "id": "e7dfa0c1",
   "metadata": {},
   "outputs": [
    {
     "name": "stdout",
     "output_type": "stream",
     "text": [
      "Input a list of student scores 123 23 88 67 42 100\n",
      "[123, 23, 88, 67, 42, 100]\n",
      "The highest score in the class is: 123\n"
     ]
    }
   ],
   "source": [
    "# Highest score without max()\n",
    "# 🚨 Don't change the code below 👇\n",
    "student_scores = input(\"Input a list of student scores \").split()\n",
    "for n in range(0, len(student_scores)):\n",
    "  student_scores[n] = int(student_scores[n])\n",
    "print(student_scores)\n",
    "# 🚨 Don't change the code above 👆\n",
    "#Write your code below this row 👇\n",
    "highest_score = 0\n",
    "for score in student_scores:\n",
    "    if score > highest_score:\n",
    "        highest_score = score\n",
    "print(f\"The highest score in the class is: {highest_score}\")"
   ]
  },
  {
   "cell_type": "markdown",
   "id": "8b399f74",
   "metadata": {},
   "source": [
    "### Range() function\n",
    "- for number in range(a, b):\n",
    "    do something with number"
   ]
  },
  {
   "cell_type": "code",
   "execution_count": 6,
   "id": "763b396d",
   "metadata": {},
   "outputs": [
    {
     "name": "stdout",
     "output_type": "stream",
     "text": [
      "1\n",
      "2\n",
      "3\n",
      "4\n",
      "5\n",
      "6\n",
      "7\n",
      "8\n",
      "9\n"
     ]
    }
   ],
   "source": [
    "for number in range(1, 10): # loops through all number between 1 and 10, but doesn't include the end of the range!\n",
    "    print(number)"
   ]
  },
  {
   "cell_type": "code",
   "execution_count": 7,
   "id": "c81e2019",
   "metadata": {
    "scrolled": true
   },
   "outputs": [
    {
     "name": "stdout",
     "output_type": "stream",
     "text": [
      "1\n",
      "2\n",
      "3\n",
      "4\n",
      "5\n",
      "6\n",
      "7\n",
      "8\n",
      "9\n",
      "10\n"
     ]
    }
   ],
   "source": [
    "for number in range(1, 11): # loops through all number between 1 and 10, including 10\n",
    "    print(number)"
   ]
  },
  {
   "cell_type": "code",
   "execution_count": 8,
   "id": "7a9a4bb9",
   "metadata": {},
   "outputs": [
    {
     "name": "stdout",
     "output_type": "stream",
     "text": [
      "1\n",
      "4\n",
      "7\n",
      "10\n"
     ]
    }
   ],
   "source": [
    "for number in range(1, 11, 3): # last number is step size, allows you to jump through by specific integer\n",
    "    print(number)"
   ]
  },
  {
   "cell_type": "code",
   "execution_count": 13,
   "id": "b7016960",
   "metadata": {},
   "outputs": [
    {
     "name": "stdout",
     "output_type": "stream",
     "text": [
      "5050\n"
     ]
    }
   ],
   "source": [
    "total = 0\n",
    "for number in range(1, 101):\n",
    "    total += number\n",
    "print(total)"
   ]
  },
  {
   "cell_type": "code",
   "execution_count": null,
   "id": "9ca7e0c6",
   "metadata": {},
   "outputs": [],
   "source": [
    "# calculate total of all even numbers between 1-100\n",
    "total = 0\n",
    "for number in range(2, 102, 2): # could have just gone to 101\n",
    "    total += number\n",
    "print(total)"
   ]
  },
  {
   "cell_type": "code",
   "execution_count": 16,
   "id": "13bcbd08",
   "metadata": {},
   "outputs": [
    {
     "name": "stdout",
     "output_type": "stream",
     "text": [
      "2550\n"
     ]
    }
   ],
   "source": [
    "# another way to solve\n",
    "total = 0\n",
    "for number in range(1, 101):\n",
    "    if number % 2 == 0:\n",
    "        total += number\n",
    "print(total)"
   ]
  },
  {
   "cell_type": "code",
   "execution_count": null,
   "id": "9deb2f49",
   "metadata": {},
   "outputs": [],
   "source": [
    "# FizzBuzz challenge https://en.wikipedia.org/wiki/Fizz_buzz\n",
    "for number in range(1, 101):\n",
    "    if number % 3 == 0 and number % 5 == 0: #this must be first because of how an if statement works, it only finds the first that is true.\n",
    "        print(\"FizzBuzz\")\n",
    "    elif number % 3 == 0:\n",
    "        print(\"Fizz\")\n",
    "    elif number % 5 == 0:\n",
    "        print(\"Buzz\")\n",
    "    else:\n",
    "        print(number)"
   ]
  },
  {
   "cell_type": "code",
   "execution_count": 17,
   "id": "3116c045",
   "metadata": {},
   "outputs": [
    {
     "name": "stdout",
     "output_type": "stream",
     "text": [
      "Welcome to the PyPassword Generator!\n",
      "How many letters would you like in your password?\n",
      "5\n",
      "How many symbols would you like?\n",
      "4\n",
      "How many numbers would you like?\n",
      "2\n",
      "VCQEL$+$%14\n",
      "Your password is: (E)VFY!*34L\n"
     ]
    }
   ],
   "source": [
    "#Password Generator Project\n",
    "import random\n",
    "letters = ['a', 'b', 'c', 'd', 'e', 'f', 'g', 'h', 'i', 'j', 'k', 'l', 'm', 'n', 'o', 'p', 'q', 'r', 's', 't', 'u', 'v', 'w', 'x', 'y', 'z', 'A', 'B', 'C', 'D', 'E', 'F', 'G', 'H', 'I', 'J', 'K', 'L', 'M', 'N', 'O', 'P', 'Q', 'R', 'S', 'T', 'U', 'V', 'W', 'X', 'Y', 'Z']\n",
    "numbers = ['0', '1', '2', '3', '4', '5', '6', '7', '8', '9']\n",
    "symbols = ['!', '#', '$', '%', '&', '(', ')', '*', '+']\n",
    "\n",
    "print(\"Welcome to the PyPassword Generator!\")\n",
    "nr_letters= int(input(\"How many letters would you like in your password?\\n\")) \n",
    "nr_symbols = int(input(f\"How many symbols would you like?\\n\"))\n",
    "nr_numbers = int(input(f\"How many numbers would you like?\\n\"))\n",
    "\n",
    "#Eazy Level - Order not randomised:\n",
    "#e.g. 4 letter, 2 symbol, 2 number = JduE&!91\n",
    "password = \"\"\n",
    "for l in range(nr_letters): #see info for range() as only the stop is required. thus if you just pass the input give it will find exactly that number due to indicies.\n",
    "  password += random.choice(letters)\n",
    "for s in range(nr_symbols):\n",
    "  password += random.choice(symbols)\n",
    "for n in range(nr_numbers):\n",
    "  password += random.choice(numbers)\n",
    "print(password)\n",
    "# Hard Level - Order of characters randomised:\n",
    "# e.g. 4 letter, 2 symbol, 2 number = g^2jk8&P\n",
    "password_list = [] #password needs to be list to randomize\n",
    "for l in range(nr_letters):\n",
    "  password_list += random.choice(letters) #could also be password_list .append(random.choice(letters))\n",
    "for s in range(nr_symbols):\n",
    "  password_list += random.choice(symbols)\n",
    "for n in range(nr_numbers):\n",
    "  password_list += random.choice(numbers)\n",
    "random.shuffle(password_list) #allows you to randomly shuffle a list\n",
    "password = \"\" #variable to be called later\n",
    "for char in password_list: #turns list back into string\n",
    "  password += char\n",
    "print(f\"Your password is: {password}\")\n",
    "# could also do the following\n",
    "# password = \"\".join(password_list) joins list elements together by what is in \"\", so in this case nothing.\n",
    "# print(password)"
   ]
  }
 ],
 "metadata": {
  "kernelspec": {
   "display_name": "Python 3 (ipykernel)",
   "language": "python",
   "name": "python3"
  },
  "language_info": {
   "codemirror_mode": {
    "name": "ipython",
    "version": 3
   },
   "file_extension": ".py",
   "mimetype": "text/x-python",
   "name": "python",
   "nbconvert_exporter": "python",
   "pygments_lexer": "ipython3",
   "version": "3.8.16"
  }
 },
 "nbformat": 4,
 "nbformat_minor": 5
}
