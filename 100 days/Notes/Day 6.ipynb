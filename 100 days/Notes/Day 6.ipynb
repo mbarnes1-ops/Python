{
 "cells": [
  {
   "cell_type": "markdown",
   "id": "ab8c7744",
   "metadata": {},
   "source": [
    "## Day 6\n",
    "- Code blocks, indentation\n",
    "- Functions\n",
    "- While Loops"
   ]
  },
  {
   "cell_type": "markdown",
   "id": "5eeafbdd",
   "metadata": {},
   "source": [
    "### Functions\n",
    "- name of the function() i.e. print() or len()\n",
    "- we can also make our own function, need to define the function first."
   ]
  },
  {
   "cell_type": "code",
   "execution_count": 1,
   "id": "f22fe825",
   "metadata": {},
   "outputs": [
    {
     "name": "stdout",
     "output_type": "stream",
     "text": [
      "Hello\n",
      "Bye\n"
     ]
    }
   ],
   "source": [
    "def my_function(): #def tells us that we are defining a function, thus we need the name of it and then the ()\n",
    "    print(\"Hello\")\n",
    "    print(\"Bye\") #if you run this now, nothing happens, as it hasn't been called/executed yet\n",
    "my_function() #calling the function"
   ]
  },
  {
   "cell_type": "code",
   "execution_count": 2,
   "id": "67d6c177",
   "metadata": {},
   "outputs": [
    {
     "ename": "SyntaxError",
     "evalue": "invalid syntax (829706282.py, line 2)",
     "output_type": "error",
     "traceback": [
      "\u001b[1;36m  Cell \u001b[1;32mIn[2], line 2\u001b[1;36m\u001b[0m\n\u001b[1;33m    def my_function:\u001b[0m\n\u001b[1;37m                   ^\u001b[0m\n\u001b[1;31mSyntaxError\u001b[0m\u001b[1;31m:\u001b[0m invalid syntax\n"
     ]
    }
   ],
   "source": [
    "# Defining fucntions\n",
    "def my_function():\n",
    "    #Do this\n",
    "    #Then do this\n",
    "    #Finally do this\n",
    "#Calling functions\n",
    "my_function()\n",
    "# functions allow us to refer back to a bunch of instructions/code at the same time/once, instead of having to write it over and over again\n"
   ]
  },
  {
   "cell_type": "code",
   "execution_count": null,
   "id": "5fd258c7",
   "metadata": {},
   "outputs": [],
   "source": [
    "# hurdle 1 challenge: https://reeborg.ca/reeborg.html?lang=en&mode=python&menu=worlds%2Fmenus%2Freeborg_intro_en.json&name=Hurdle%201&url=worlds%2Ftutorial_en%2Fhurdle1.json\n",
    "def turn_right():\n",
    "    turn_left()\n",
    "    turn_left()\n",
    "    turn_left()\n",
    "# define function to reduce repetitve code\n",
    "def jump_hurdle():\n",
    "    move()\n",
    "    turn_left()\n",
    "    move()\n",
    "    turn_right()\n",
    "    move()\n",
    "    turn_right()\n",
    "    move()\n",
    "    turn_left()\n",
    "# jump hurdles using function and for loop\n",
    "for step in range(6): #use range function to denote how many times to do the thing\n",
    "    jump_hurdle()"
   ]
  },
  {
   "cell_type": "markdown",
   "id": "5f6bc663",
   "metadata": {},
   "source": [
    "### Indentation\n",
    "- think of it like file structure. Function is like a folder, anything indented inside of it is part of it.\n",
    "- spaces vs tabs: you can use tabs for indentation. official style guide (pep8) for Python is to use spaces   "
   ]
  }
 ],
 "metadata": {
  "kernelspec": {
   "display_name": "Python 3 (ipykernel)",
   "language": "python",
   "name": "python3"
  },
  "language_info": {
   "codemirror_mode": {
    "name": "ipython",
    "version": 3
   },
   "file_extension": ".py",
   "mimetype": "text/x-python",
   "name": "python",
   "nbconvert_exporter": "python",
   "pygments_lexer": "ipython3",
   "version": "3.8.16"
  }
 },
 "nbformat": 4,
 "nbformat_minor": 5
}
