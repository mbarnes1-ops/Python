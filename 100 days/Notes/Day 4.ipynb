{
 "cells": [
  {
   "cell_type": "markdown",
   "metadata": {},
   "source": [
    "## Day 4: Randomization and Python Lists\n",
    "- Topics for today:\n",
    "- Random module\n",
    "- Project: Rock Paper Scissors"
   ]
  },
  {
   "cell_type": "markdown",
   "metadata": {},
   "source": [
    "### Random Module/Randomization in Python\n",
    "- Needed to create a program which has a degree of uncertainity.\n",
    "- Computers are intentionally deterministic, they follow a set of logic to always do things the same way.\n",
    "- Python uses the Mersenne Twister in order to introduce it's randomness. These are known as pseudorandom number generators.\n",
    "- In order to get random numbers in Python, use the random module. see the documentation at askpython.com\n",
    "- first must import the module, then call the specific function that you want.\n"
   ]
  },
  {
   "cell_type": "code",
   "execution_count": 12,
   "metadata": {},
   "outputs": [
    {
     "name": "stdout",
     "output_type": "stream",
     "text": [
      "3\n"
     ]
    }
   ],
   "source": [
    " # imports the random number generator module\n",
    "import random\n",
    "# creates a variable and then tells comp to generate a rondom number between 1 and 10, inclusive of those two numbers as well.\n",
    "random_integer = random.randint(1,10)\n",
    "print(random_integer)"
   ]
  }
 ],
 "metadata": {
  "kernelspec": {
   "display_name": "Python 3",
   "language": "python",
   "name": "python3"
  },
  "language_info": {
   "codemirror_mode": {
    "name": "ipython",
    "version": 3
   },
   "file_extension": ".py",
   "mimetype": "text/x-python",
   "name": "python",
   "nbconvert_exporter": "python",
   "pygments_lexer": "ipython3",
   "version": "3.8.5"
  }
 },
 "nbformat": 4,
 "nbformat_minor": 4
}
