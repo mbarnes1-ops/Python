{
 "cells": [
  {
   "cell_type": "markdown",
   "metadata": {},
   "source": [
    "## Day 4: Randomization and Python Lists\n",
    "- Topics for today:\n",
    "- Random module\n",
    "- Project: Rock Paper Scissors"
   ]
  },
  {
   "cell_type": "markdown",
   "metadata": {},
   "source": [
    "### Random Module/Randomization in Python\n",
    "- Needed to create a program which has a degree of uncertainity.\n",
    "- Computers are intentionally deterministic, they follow a set of logic to always do things the same way.\n",
    "- Python uses the Mersenne Twister in order to introduce it's randomness. These are known as pseudorandom number generators.\n",
    "- In order to get random numbers in Python, use the random module. see the documentation at askpython.com\n",
    "- first must import the module, then call the specific function that you want.\n"
   ]
  },
  {
   "cell_type": "code",
   "execution_count": 3,
   "metadata": {},
   "outputs": [
    {
     "name": "stdout",
     "output_type": "stream",
     "text": [
      "6\n"
     ]
    }
   ],
   "source": [
    " # imports the random number generator module\n",
    "import random\n",
    "# creates a variable and then tells comp to generate a rondom number between 1 and 10, inclusive of those two numbers as well.\n",
    "random_integer = random.randint(1,10)\n",
    "print(random_integer)"
   ]
  },
  {
   "cell_type": "markdown",
   "metadata": {},
   "source": [
    "### Modules\n",
    "- Used when your project becomes veary large, allows it to be broken down into different discrete parts. Think of a car in a factory, it doesn't make sense for one person to build the whole thing.\n",
    "- can be imported by using ``import`` function based and can also be created by us to call functions later on as well, thus having our code not be as crazy long.\n"
   ]
  },
  {
   "cell_type": "markdown",
   "metadata": {},
   "source": [
    "### Random Floats\n",
    "- can use ``random.random()`` to return a flaot between 0.0 and 1.0, though it is important to note that 0.0 and 1.0 ARE NOT INCLUDED"
   ]
  },
  {
   "cell_type": "code",
   "execution_count": 8,
   "metadata": {},
   "outputs": [
    {
     "name": "stdout",
     "output_type": "stream",
     "text": [
      "0.07147700451560457\n"
     ]
    }
   ],
   "source": [
    "random_float = random.random()\n",
    "print(random_float)"
   ]
  },
  {
   "cell_type": "code",
   "execution_count": 15,
   "metadata": {},
   "outputs": [
    {
     "name": "stdout",
     "output_type": "stream",
     "text": [
      "0.1772294499257696\n",
      "0.886147249628848\n"
     ]
    }
   ],
   "source": [
    "rad_float = random.random()\n",
    "print(rad_float)\n",
    "# to get a random float above 1.0, just multiply\n",
    "new_float = rad_float * 5\n",
    "print(new_float)"
   ]
  },
  {
   "cell_type": "code",
   "execution_count": 1,
   "metadata": {},
   "outputs": [
    {
     "name": "stdout",
     "output_type": "stream",
     "text": [
      "Heads\n"
     ]
    }
   ],
   "source": [
    "### Coding challenege 4.1- Heads or tails\n",
    "import random\n",
    "random_number = random.randint(0,1)\n",
    "if random_number == 0:\n",
    "    print(\"Heads\")\n",
    "else:\n",
    "    print(\"Tails\")"
   ]
  },
  {
   "cell_type": "markdown",
   "metadata": {},
   "source": [
    "### Lists\n",
    "- a data structure- how to organize and store data in python.\n",
    "- allows you to store groups of data together that may be related, instead of storing everything individually as single variables.\n",
    "- also allows there to be order in your data.\n",
    "- `` fruits = [item1, item2]``\n",
    "- can be any data type, or mixed data types!\n",
    "- they must always have opening and closing brackets, and items separated by commas.\n",
    "- ` fruits = [\"Cherry\", \"Apple\", \"Pear\"]`"
   ]
  },
  {
   "cell_type": "code",
   "execution_count": 3,
   "metadata": {},
   "outputs": [
    {
     "name": "stdout",
     "output_type": "stream",
     "text": [
      "Delaware\n"
     ]
    }
   ],
   "source": [
    "us_states = [\"Delaware\", \"Pennsylvania\", \"New Jersey\"]\n",
    "# order is determined by the order the data is in the list\n",
    "print(us_states[0]) # 0 is index number, remember index in python starts with 0\n",
    "# also known as offset, or how far the data is from the start of the list. 0 is the start of the list, 1 is shifted from the start 1 position.\n",
    "# could also use negative indices, so -1 is the last thing on the list."
   ]
  },
  {
   "cell_type": "code",
   "execution_count": 8,
   "metadata": {},
   "outputs": [
    {
     "name": "stdout",
     "output_type": "stream",
     "text": [
      "['Delaware', 'Pencilvania', 'New Jersey', 'Puerto Rico', 'Puerto Rico', 'Mattland', 'D.C.']\n",
      "['Delaware', 'Pencilvania', 'New Jersey', 'Puerto Rico', 'Puerto Rico', 'Mattland', 'D.C.', 'Puerto Rico']\n",
      "['Delaware', 'Pencilvania', 'New Jersey', 'Puerto Rico', 'Puerto Rico', 'Mattland', 'D.C.', 'Puerto Rico', 'Mattland', 'D.C.']\n"
     ]
    }
   ],
   "source": [
    "# can also change the values in the list\n",
    "us_states[1] = \"Pencilvania\"\n",
    "print(us_states)\n",
    "# to add a single item to the list at the end, use the append function\n",
    "us_states.append(\"Puerto Rico\")\n",
    "print(us_states)\n",
    "# tons of other functions to use with lists, see the python docs for data structures\n",
    "us_states.extend([\"Mattland\", \"D.C.\"])\n",
    "print(us_states)\n",
    "# extend adds another list to the existing list, thus it needs list formatting. Adds to the end of the current list"
   ]
  },
  {
   "cell_type": "code",
   "execution_count": null,
   "metadata": {},
   "outputs": [],
   "source": [
    "### Coding Challenge 4.2- Paying for the bill\n",
    "# https://replit.com/@mbarnes1ops/day-4-2-exercise#main.py\n",
    "# Split string method\n",
    "names_string = input(\"Give me everybody's names, separated by a comma. \")\n",
    "names = names_string.split(\", \")\n",
    "number_names = len(names)\n",
    "import random\n",
    "random_name = random.randint(0, number_names - 1)\n",
    "payee = names[random_name]\n",
    "print(f\"{payee} is going to buy the meal today!\")"
   ]
  },
  {
   "cell_type": "code",
   "execution_count": 1,
   "metadata": {
    "scrolled": true
   },
   "outputs": [
    {
     "name": "stdout",
     "output_type": "stream",
     "text": [
      "Give me everybody's names, separated by a comma. Matt, Chris, Jess, Dawn. Mike. Joe\n",
      "Jess is going to buy the meal today!\n"
     ]
    }
   ],
   "source": [
    "### Much shorter way to do above\n",
    "names_string = input(\"Give me everybody's names, separated by a comma. \")\n",
    "names = names_string.split(\", \")\n",
    "import random\n",
    "payee = random.choice(names)\n",
    "print(f\"{payee} is going to buy the meal today!\")"
   ]
  },
  {
   "cell_type": "markdown",
   "metadata": {},
   "source": [
    "### IndexErrors\n",
    "\n",
    "- List index out of range: happens if you attempt to get info on an index that is beyond the actual range of the list.\n",
    "- \"off by 1 error\" if you len a list, you can't use that answer in your code without - 1 from it, will receive ^ if you don't."
   ]
  },
  {
   "cell_type": "markdown",
   "metadata": {},
   "source": [
    "### Nested Lists\n",
    "- can create a list composed of multiple lists, if you save them to variables and call those variables\n",
    "- outputs with double brackets at beginning and end, as it is actually ` [[list 1], [list 2]] ` all inside of list 3"
   ]
  },
  {
   "cell_type": "code",
   "execution_count": 2,
   "metadata": {},
   "outputs": [
    {
     "name": "stdout",
     "output_type": "stream",
     "text": [
      "[['Strawberries', 'Nectarines', 'Apples', 'Grapes', 'Peaches', 'Cherries', 'Pears'], ['Spinach', 'Kale', 'Tomatoes', 'Celery', 'Potatoes']]\n",
      "Kale\n"
     ]
    }
   ],
   "source": [
    "# Nested Lists example\n",
    "# dirty_dozen = [\"Strawberries\", \"Spinach\", \"Kale\", \"Nectarines\", \"Apples\", \"Grapes\", \"Peaches\", \"Cherries\", \"Pears\", \"Tomatoes\", \"Celery\", \"Potatoes\"]\n",
    "fruits = [\"Strawberries\", \"Nectarines\", \"Apples\", \"Grapes\", \"Peaches\", \"Cherries\", \"Pears\"]\n",
    "vegetables = [\"Spinach\", \"Kale\", \"Tomatoes\", \"Celery\", \"Potatoes\"]\n",
    "dirty_dozen = [fruits, vegetables]\n",
    "print(dirty_dozen)\n",
    "print(dirty_dozen[1][1]) #showing how you can combine nested lists and indices. fruits is list 0, vegetables is list 1"
   ]
  },
  {
   "cell_type": "code",
   "execution_count": null,
   "metadata": {},
   "outputs": [],
   "source": [
    "# Coding Challenge\n",
    "\n",
    "# 🚨 Don't change the code below 👇\n",
    "row1 = [\"⬜️\",\"️⬜️\",\"️⬜️\"]\n",
    "row2 = [\"⬜️\",\"⬜️\",\"️⬜️\"]\n",
    "row3 = [\"⬜️️\",\"⬜️️\",\"⬜️️\"]\n",
    "map = [row1, row2, row3]\n",
    "print(f\"{row1}\\n{row2}\\n{row3}\")\n",
    "position = input(\"Where do you want to put the treasure? \")\n",
    "# 🚨 Don't change the code above 👆\n",
    "\n",
    "#Write your code below this row 👇\n",
    "vertical = int(position[1]) - 1 # change type from str to int for index, subtract 1 to avoid indexerror\n",
    "horizontal = int(position[0]) - 1\n",
    "map[vertical][horizontal] = \"X\" # set correct index to be X\n",
    "\n",
    "#Write your code above this row 👆\n",
    "\n",
    "# 🚨 Don't change the code below 👇\n",
    "print(f\"{row1}\\n{row2}\\n{row3}\")"
   ]
  }
 ],
 "metadata": {
  "kernelspec": {
   "display_name": "Python 3 (ipykernel)",
   "language": "python",
   "name": "python3"
  },
  "language_info": {
   "codemirror_mode": {
    "name": "ipython",
    "version": 3
   },
   "file_extension": ".py",
   "mimetype": "text/x-python",
   "name": "python",
   "nbconvert_exporter": "python",
   "pygments_lexer": "ipython3",
   "version": "3.8.16"
  },
  "metadata": {
   "interpreter": {
    "hash": "7018d4c494a8eebfde58ec1a75bd8173b1cda5fd008cc483aefd350c0b2a95d4"
   }
  }
 },
 "nbformat": 4,
 "nbformat_minor": 4
}
