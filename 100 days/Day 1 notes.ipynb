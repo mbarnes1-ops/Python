{
 "cells": [
  {
   "cell_type": "markdown",
   "metadata": {},
   "source": [
    "# Day 1\n",
    "\n",
    "Things covered: Printing, Sting Manipulation and Code Intelligence, Debugging, Input, Variables. Project is Band Name Generator"
   ]
  },
  {
   "cell_type": "markdown",
   "metadata": {},
   "source": [
    "## Print Function"
   ]
  },
  {
   "cell_type": "code",
   "execution_count": 3,
   "metadata": {},
   "outputs": [
    {
     "name": "stdout",
     "output_type": "stream",
     "text": [
      "Hello World\n"
     ]
    }
   ],
   "source": [
    "print(\"Hello World\")"
   ]
  },
  {
   "cell_type": "markdown",
   "metadata": {},
   "source": [
    "Print function = print(\"something\") tells the computer to output *something* The quotation marks are important as they mark our that what is between them is not code, it is simply text. This is known as a **string**. The string is fully contained by the quotes. "
   ]
  },
  {
   "cell_type": "code",
   "execution_count": 4,
   "metadata": {},
   "outputs": [
    {
     "ename": "SyntaxError",
     "evalue": "EOL while scanning string literal (<ipython-input-4-e168bc083d75>, line 1)",
     "output_type": "error",
     "traceback": [
      "\u001b[1;36m  File \u001b[1;32m\"<ipython-input-4-e168bc083d75>\"\u001b[1;36m, line \u001b[1;32m1\u001b[0m\n\u001b[1;33m    print(\"Hello world!)\u001b[0m\n\u001b[1;37m                        ^\u001b[0m\n\u001b[1;31mSyntaxError\u001b[0m\u001b[1;31m:\u001b[0m EOL while scanning string literal\n"
     ]
    }
   ],
   "source": [
    "print(\"Hello world!)"
   ]
  },
  {
   "cell_type": "markdown",
   "metadata": {},
   "source": [
    "see the sybtle hint above that there is a problem in the code color wise, instead of being white like the other parenthesis, the closing oe is green, like the string before it, as the string was never closed and thus the computer thinks it is still going. When run, the code will error. Learn how good stack overflow is and just put errors that one sees in there, should find good info"
   ]
  },
  {
   "cell_type": "markdown",
   "metadata": {},
   "source": [
    "Pay attention to the color of the code, this is called **syntax highlighting** and can be super super helpful to figure stuff out."
   ]
  },
  {
   "cell_type": "markdown",
   "metadata": {},
   "source": [
    "Print exercise: see https://repl.it/@appbrewery/day-1-1-exercise for info on what to do. The code must match the example output exactly. "
   ]
  },
  {
   "cell_type": "code",
   "execution_count": 9,
   "metadata": {},
   "outputs": [
    {
     "name": "stdout",
     "output_type": "stream",
     "text": [
      "Day 1 - Python Print Function\n",
      "The function is declared like this:\n",
      "print('what to print')\n"
     ]
    }
   ],
   "source": [
    "print(\"Day 1 - Python Print Function\")\n",
    "print(\"The function is declared like this:\")\n",
    "print(\"print('what to print')\")"
   ]
  },
  {
   "cell_type": "markdown",
   "metadata": {},
   "source": [
    "a single quote is used in the third line because python doesn't care if strings are enclosed in single or double quotes. **But** if you do double quotes with double quotes inside it you would receive a syntax error, as it thinks that the string is simply `\"print(\"` and sees `what to print` as code and see `\")\"` as a second string, so the code is all jumbled up! No matter which quotes one uses for a string, if there need to be quotes inside the string, the other type must be used, single outside, double inside or double outside and single inside."
   ]
  },
  {
   "cell_type": "markdown",
   "metadata": {},
   "source": [
    "## String Manipulation"
   ]
  },
  {
   "cell_type": "markdown",
   "metadata": {},
   "source": [
    "In a string, to create a new line, and thus write less code, use `\\n` This will print whatever is after the **newline escape** ( \\ is a character called escape in Python)"
   ]
  },
  {
   "cell_type": "code",
   "execution_count": 10,
   "metadata": {},
   "outputs": [
    {
     "name": "stdout",
     "output_type": "stream",
     "text": [
      "Hello world!\n",
      "Hello world!\n"
     ]
    }
   ],
   "source": [
    "print(\"Hello world!\\nHello world!\")"
   ]
  },
  {
   "cell_type": "markdown",
   "metadata": {},
   "source": [
    "If we concatenate strings, we combine different strings so that they are added to the end of a different string. for instance, you can combine 2 strings."
   ]
  },
  {
   "cell_type": "code",
   "execution_count": 11,
   "metadata": {},
   "outputs": [
    {
     "name": "stdout",
     "output_type": "stream",
     "text": [
      "HelloMatt\n"
     ]
    }
   ],
   "source": [
    "print('Hello' + 'Matt')"
   ]
  },
  {
   "cell_type": "markdown",
   "metadata": {},
   "source": [
    "As there is no space characeter inbetween the strings, no space is added when they are concatenated. See below for how to add a space. 3 different ways to do it."
   ]
  },
  {
   "cell_type": "code",
   "execution_count": 12,
   "metadata": {},
   "outputs": [
    {
     "name": "stdout",
     "output_type": "stream",
     "text": [
      "Hello Matt\n"
     ]
    }
   ],
   "source": [
    "print('Hello' + ' Matt')"
   ]
  },
  {
   "cell_type": "code",
   "execution_count": 13,
   "metadata": {},
   "outputs": [
    {
     "name": "stdout",
     "output_type": "stream",
     "text": [
      "Hello Matt\n"
     ]
    }
   ],
   "source": [
    "print('Hello ' + 'Matt')"
   ]
  },
  {
   "cell_type": "code",
   "execution_count": 14,
   "metadata": {},
   "outputs": [
    {
     "name": "stdout",
     "output_type": "stream",
     "text": [
      "Hello Matt\n"
     ]
    }
   ],
   "source": [
    "print('Hello' + ' ' + 'Matt')"
   ]
  },
  {
   "cell_type": "markdown",
   "metadata": {},
   "source": [
    "The third way uses string concatenation three times with a space as a string in the middle of the two other strings."
   ]
  },
  {
   "cell_type": "markdown",
   "metadata": {},
   "source": [
    "string concatenatoin is merging the separate stings into one string. "
   ]
  },
  {
   "cell_type": "markdown",
   "metadata": {},
   "source": [
    "in Python, spaces are super important, you will receive an unespected indent error if you have a space or tab at the beginning of the the line, unless you need a space there."
   ]
  },
  {
   "cell_type": "code",
   "execution_count": 15,
   "metadata": {},
   "outputs": [
    {
     "name": "stdout",
     "output_type": "stream",
     "text": [
      "Hello World!\n"
     ]
    }
   ],
   "source": [
    " print('Hello World!')"
   ]
  },
  {
   "cell_type": "code",
   "execution_count": 16,
   "metadata": {},
   "outputs": [
    {
     "name": "stdout",
     "output_type": "stream",
     "text": [
      "Hello\n"
     ]
    }
   ],
   "source": [
    "    print(\"Hello\")"
   ]
  },
  {
   "cell_type": "markdown",
   "metadata": {},
   "source": [
    "To attempt to prevent errors use a linter in an IDE or use Code intelligence. "
   ]
  },
  {
   "cell_type": "markdown",
   "metadata": {},
   "source": [
    "Code challenege 2: Debug existing code https://repl.it/@mbarnes1ops/day-1-2-exercise"
   ]
  },
  {
   "cell_type": "code",
   "execution_count": 17,
   "metadata": {},
   "outputs": [
    {
     "name": "stdout",
     "output_type": "stream",
     "text": [
      "e.g. print(\"Hello\" \"+\" \"World\")\n"
     ]
    }
   ],
   "source": [
    "print('e.g. print(\"Hello\" \"+\" \"World\")')"
   ]
  },
  {
   "cell_type": "code",
   "execution_count": 18,
   "metadata": {},
   "outputs": [
    {
     "name": "stdout",
     "output_type": "stream",
     "text": [
      "e.g. print(\"Hello \" + \"world\")\n"
     ]
    }
   ],
   "source": [
    "print('e.g. print(\"Hello \" + \"world\")')"
   ]
  },
  {
   "cell_type": "code",
   "execution_count": 19,
   "metadata": {},
   "outputs": [
    {
     "name": "stdout",
     "output_type": "stream",
     "text": [
      "String Concatenation is done with the \"+\" sign.\n"
     ]
    }
   ],
   "source": [
    "print('String Concatenation is done with the \"+\" sign.')"
   ]
  },
  {
   "cell_type": "code",
   "execution_count": 20,
   "metadata": {},
   "outputs": [
    {
     "name": "stdout",
     "output_type": "stream",
     "text": [
      "New lines can be created with a backslash and n.\n"
     ]
    }
   ],
   "source": [
    "print(\"New lines can be created with a backslash and n.\")"
   ]
  },
  {
   "cell_type": "markdown",
   "metadata": {},
   "source": [
    "## Input Function: Input()"
   ]
  },
  {
   "cell_type": "markdown",
   "metadata": {},
   "source": [
    "Allows us to ask the user for information, and the user to enter information which is then passed into the code. `input(prompt)` Once the information is input by the user, that data then replaces the input function. "
   ]
  },
  {
   "cell_type": "code",
   "execution_count": 1,
   "metadata": {},
   "outputs": [
    {
     "name": "stdout",
     "output_type": "stream",
     "text": [
      "What is your name?Matt\n"
     ]
    },
    {
     "data": {
      "text/plain": [
       "'Matt'"
      ]
     },
     "execution_count": 1,
     "metadata": {},
     "output_type": "execute_result"
    }
   ],
   "source": [
    "input(\"What is your name?\")"
   ]
  },
  {
   "cell_type": "markdown",
   "metadata": {},
   "source": [
    "The program will pause and wait for input from the user, and will only move on to the next line/end once the input has been received. The question is, what can we do with this? We can use it inside our code! "
   ]
  },
  {
   "cell_type": "markdown",
   "metadata": {},
   "source": [
    "print(\"Hello \" + input(\"What is your name?\"))"
   ]
  },
  {
   "cell_type": "markdown",
   "metadata": {},
   "source": [
    "The above is an input function inside a print function using concatenation, so first the input is asked for from the user, and then once it has been given the print function runs, concatenating the two strings, of which input is replace the the answer to the prompt"
   ]
  },
  {
   "cell_type": "markdown",
   "metadata": {},
   "source": [
    "To comment code, use # and the the text. This tells Python that what follows isn't code, and doesn't need to be run as such"
   ]
  },
  {
   "cell_type": "code",
   "execution_count": 3,
   "metadata": {},
   "outputs": [
    {
     "name": "stdout",
     "output_type": "stream",
     "text": [
      "Hello World!\n"
     ]
    }
   ],
   "source": [
    "# Print function \n",
    "print(\"Hello World!\")"
   ]
  },
  {
   "cell_type": "markdown",
   "metadata": {},
   "source": [
    "Inputs exercise: https://repl.it/@mbarnes1ops/day-1-3-exercise"
   ]
  },
  {
   "cell_type": "code",
   "execution_count": null,
   "metadata": {},
   "outputs": [],
   "source": [
    "# Answer to above, per what we have learned so far. See Comments for how this works\n",
    "# 1- Input() is run and answered by user\n",
    "# 2- user answer passed into code print ( len ( 'name'))\n",
    "# 3- len() run and length of the object (what is in the parenthesis) is determined\n",
    "# 4- answer to 3 is printed\n",
    "# 5- The spaces are there to show the separation of the different functions, though they are not compliant with pep8. \n",
    "\n",
    "print( len ( input (\"What is your name? \")))"
   ]
  },
  {
   "cell_type": "code",
   "execution_count": 12,
   "metadata": {},
   "outputs": [
    {
     "name": "stdout",
     "output_type": "stream",
     "text": [
      "What is your name? Matthew\n"
     ]
    },
    {
     "data": {
      "text/plain": [
       "7"
      ]
     },
     "execution_count": 12,
     "metadata": {},
     "output_type": "execute_result"
    }
   ],
   "source": [
    "# This is a different way of the above, using variables, which this class hasn't yet done.\n",
    "eggs = input(\"What is your name? \")\n",
    "len(eggs)"
   ]
  },
  {
   "cell_type": "markdown",
   "metadata": {},
   "source": [
    "## Variables"
   ]
  },
  {
   "cell_type": "markdown",
   "metadata": {},
   "source": [
    "Variables allow us to use a function earlier on in the code, and then pass the value of the function once run later on. For instance, you can take the answer of an input function, and pass that to the print function later on, simply by `variable = code` and then referring to `variable` later as an object. "
   ]
  },
  {
   "cell_type": "code",
   "execution_count": 17,
   "metadata": {},
   "outputs": [
    {
     "name": "stdout",
     "output_type": "stream",
     "text": [
      "Who is the Sith Lord? Sidious\n",
      "DarthSidious\n"
     ]
    }
   ],
   "source": [
    "name = input(\"Who is the Sith Lord? \")\n",
    "print(\"Darth\" + name)"
   ]
  },
  {
   "cell_type": "markdown",
   "metadata": {},
   "source": [
    "Just because the variable has already been set, that doesn't mean that it can't be changed later. "
   ]
  },
  {
   "cell_type": "code",
   "execution_count": 19,
   "metadata": {},
   "outputs": [
    {
     "name": "stdout",
     "output_type": "stream",
     "text": [
      "Sidious\n",
      "Vader\n"
     ]
    }
   ],
   "source": [
    "name = \"Sidious\"\n",
    "print(name)\n",
    "\n",
    "name = \"Vader\"\n",
    "print(name)"
   ]
  },
  {
   "cell_type": "code",
   "execution_count": 20,
   "metadata": {},
   "outputs": [
    {
     "name": "stdout",
     "output_type": "stream",
     "text": [
      "What is your name? Darth Sidious\n",
      "13\n"
     ]
    }
   ],
   "source": [
    "# Variables in action with the previous prompt, showing how multiple variables can be passed\n",
    "name = input(\"What is your name? \")\n",
    "length = len(name)\n",
    "print(length)"
   ]
  },
  {
   "cell_type": "markdown",
   "metadata": {},
   "source": [
    "Variables coding challenge: https://repl.it/@mbarnes1ops/day-1-4-exercise"
   ]
  },
  {
   "cell_type": "code",
   "execution_count": null,
   "metadata": {},
   "outputs": [],
   "source": [
    "# 🚨 Don't change the code below 👇\n",
    "a = input(\"a: \")\n",
    "b = input(\"b: \")\n",
    "# 🚨 Don't change the code above 👆\n",
    "\n",
    "####################################\n",
    "#Write your code below this line \n",
    "#original attempt\n",
    "c = a\n",
    "d = b\n",
    "a = d\n",
    "b = c\n",
    "#I ended up doing this with one more step than needed, see below for the better answer\n",
    "c = a \n",
    "a = b\n",
    "b = c\n",
    "\n",
    "#Write your code above this line 👆\n",
    "####################################\n",
    "\n",
    "# 🚨 Don't change the code below 👇\n",
    "print(\"a: \" + a)\n",
    "print(\"b: \" + b)"
   ]
  },
  {
   "cell_type": "markdown",
   "metadata": {},
   "source": [
    "## Variable Naming"
   ]
  },
  {
   "cell_type": "markdown",
   "metadata": {},
   "source": [
    "Make your code readable. Make it make sense to you, even when you come back later. Variables can have multiple words in them, just seperate with an _ spaces are not valid. If you want numbers in the variable, they can not be at the beginning of the variable. Don't use function names as variable names, this gets messy and is just bad practice. \n",
    "Name error tells you that you are attempting to call a variable in a function that doesn't exist. If seen, check your spelling in the variable creation and in the function, to see where the error comes from. "
   ]
  },
  {
   "cell_type": "markdown",
   "metadata": {},
   "source": [
    "Day 1 project instructions: https://repl.it/@mbarnes1ops/band-name-generator-start    \n",
    "\n",
    "Finished project can be found in Github."
   ]
  }
 ],
 "metadata": {
  "kernelspec": {
   "display_name": "Python 3",
   "language": "python",
   "name": "python3"
  },
  "language_info": {
   "codemirror_mode": {
    "name": "ipython",
    "version": 3
   },
   "file_extension": ".py",
   "mimetype": "text/x-python",
   "name": "python",
   "nbconvert_exporter": "python",
   "pygments_lexer": "ipython3",
   "version": "3.8.5"
  }
 },
 "nbformat": 4,
 "nbformat_minor": 4
}
