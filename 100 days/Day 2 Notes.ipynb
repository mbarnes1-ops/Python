{
 "cells": [
  {
   "cell_type": "markdown",
   "metadata": {},
   "source": [
    "# Day 2\n",
    "\n",
    "Things covered: \n",
    "- Data Types\n",
    "- Type Error, Type Checking, and Type Conversion\n",
    "- Mathematical Operations\n",
    "- Number Manipulation and F Strings\n",
    "- Day 2 Project- Tip Calculator"
   ]
  },
  {
   "cell_type": "markdown",
   "metadata": {},
   "source": [
    "## Data Types\n",
    "\n",
    "4 of the most basic types:\n",
    "- **String**\n",
    "- **Integer**\n",
    "- **Float**\n",
    "- **Boolean**"
   ]
  },
  {
   "cell_type": "markdown",
   "metadata": {},
   "source": [
    "### String\n",
    "\n",
    "A list of characters, such as words or phrases.Must be inclosed in quotes, made up of a series of letters, either forming a word or not. Each character can be individually pulled out. This is done by *subscripting/subscript*, which calls an index (the number in brackets) beginning at 0 with the first letter and goes to n-1 where n is the number of characters in the string. The values can also be negative, starting at the end of the string with -1. This allows us to pull out individual characters when they are needed."
   ]
  },
  {
   "cell_type": "code",
   "execution_count": 1,
   "metadata": {},
   "outputs": [
    {
     "data": {
      "text/plain": [
       "'H'"
      ]
     },
     "execution_count": 1,
     "metadata": {},
     "output_type": "execute_result"
    }
   ],
   "source": [
    "\"Hello\"[0]"
   ]
  },
  {
   "cell_type": "code",
   "execution_count": 5,
   "metadata": {},
   "outputs": [
    {
     "name": "stdout",
     "output_type": "stream",
     "text": [
      "e\n"
     ]
    }
   ],
   "source": [
    "print(\"Hello\"[1])"
   ]
  },
  {
   "cell_type": "markdown",
   "metadata": {},
   "source": [
    "strings can be numbers, but can not be used for mathematical operations. For that you need something different."
   ]
  },
  {
   "cell_type": "markdown",
   "metadata": {},
   "source": [
    "### Integer\n",
    "\n",
    "Programming description of whole numbers, either positive or negative. Simply need to write the numbers, with nothing else. Commas should be replaced with underscores, to make the code more human readable. The computer will disregard them."
   ]
  },
  {
   "cell_type": "code",
   "execution_count": 7,
   "metadata": {},
   "outputs": [
    {
     "name": "stdout",
     "output_type": "stream",
     "text": [
      "125\n"
     ]
    }
   ],
   "source": [
    "print(50 + 75)"
   ]
  },
  {
   "cell_type": "markdown",
   "metadata": {},
   "source": [
    "### Float\n",
    "\n",
    "Floating point numbers are decimals in Python. "
   ]
  },
  {
   "cell_type": "code",
   "execution_count": 9,
   "metadata": {},
   "outputs": [
    {
     "data": {
      "text/plain": [
       "3.1415"
      ]
     },
     "execution_count": 9,
     "metadata": {},
     "output_type": "execute_result"
    }
   ],
   "source": [
    "3.1415"
   ]
  },
  {
   "cell_type": "markdown",
   "metadata": {},
   "source": [
    "### Boolean\n",
    "\n",
    "Data type with only two possible values, True or False. The capitals are necessary, and there are no quotes etc. that surround them."
   ]
  },
  {
   "cell_type": "code",
   "execution_count": 10,
   "metadata": {},
   "outputs": [
    {
     "data": {
      "text/plain": [
       "False"
      ]
     },
     "execution_count": 10,
     "metadata": {},
     "output_type": "execute_result"
    }
   ],
   "source": [
    "True\n",
    "False"
   ]
  },
  {
   "cell_type": "markdown",
   "metadata": {},
   "source": [
    "## Type Errors/Type Checking\n",
    "\n",
    "These happen when a function is not able to parse a specific data type in use in the code, like tryign to len an integer, as integers have no length, or trying to concatenate an integer, as only strings can be concatenated. These can be quickly found and avoided by using `type()` which will tell you the data type that something is. "
   ]
  },
  {
   "cell_type": "code",
   "execution_count": 16,
   "metadata": {},
   "outputs": [
    {
     "name": "stdout",
     "output_type": "stream",
     "text": [
      "What is your favorite beer?Sams\n",
      "4\n",
      "<class 'int'>\n"
     ]
    }
   ],
   "source": [
    "beer = len(input(\"What is your favorite beer?\"))\n",
    "print(beer)\n",
    "print(type(beer))"
   ]
  },
  {
   "cell_type": "markdown",
   "metadata": {},
   "source": [
    "## Type Conversion/Type Casting\n",
    "\n",
    "This is changing one particular data type to another. Done by using the function you want to convert to, with the value inside of (. Examples include str, int, float, bool."
   ]
  },
  {
   "cell_type": "code",
   "execution_count": 20,
   "metadata": {},
   "outputs": [
    {
     "name": "stdout",
     "output_type": "stream",
     "text": [
      "What is your favorite beer?Allagash\n",
      "Your favorite beer has 8 characters\n"
     ]
    }
   ],
   "source": [
    "beer = len(input(\"What is your favorite beer?\"))\n",
    "new_beer = str(beer)\n",
    "print(\"Your favorite beer has \" + new_beer + \" characters\")"
   ]
  },
  {
   "cell_type": "markdown",
   "metadata": {},
   "source": [
    "This allows us to use functions that will return an integer, or a float, or whatever, and then print them using concatenation, as only strings can take concatenation. You must remember however to make a new variable and use that variable in both the conversion and the print statement. "
   ]
  },
  {
   "cell_type": "code",
   "execution_count": 22,
   "metadata": {},
   "outputs": [
    {
     "name": "stdout",
     "output_type": "stream",
     "text": [
      "Type a two digit number: 32\n"
     ]
    }
   ],
   "source": [
    "two_digit_number = input(\"Type a two digit number: \")"
   ]
  },
  {
   "cell_type": "markdown",
   "metadata": {},
   "source": [
    "https://repl.it/@mbarnes1ops/day-2-1-exercise"
   ]
  },
  {
   "cell_type": "code",
   "execution_count": 34,
   "metadata": {},
   "outputs": [
    {
     "name": "stdout",
     "output_type": "stream",
     "text": [
      "Type a two digit number: 25\n",
      "7\n"
     ]
    }
   ],
   "source": [
    "#My solution, which is inelegant, and has more lines than needed. \n",
    "\n",
    "# num_one = two_digit_number[0]\n",
    "# num_two = two_digit_number[1]\n",
    "# new_num_one = int(num_one)\n",
    "# new_num_two = int(num_two)\n",
    "# print(new_num_one + new_num_two)\n",
    "\n",
    "#Dr. Yu's solution\n",
    "#Check the data type of two_digit_number\n",
    "# print(type(two_digit_number))\n",
    "# #Get the first and second digits using subscripting then convert string to int.\n",
    "# first_digit = int(two_digit_number[0])\n",
    "# second_digit = int(two_digit_number[1])\n",
    "# #Add the two digits togeter\n",
    "# two_digit_number = first_digit + second_digit\n",
    "# print(two_digit_number)\n",
    "\n",
    "#My attempt at a more elegant solution. \n",
    "two_digit_number = input(\"Type a two digit number: \")\n",
    "digit_one = int(two_digit_number[0])\n",
    "digit_two = int(two_digit_number[1])\n",
    "print(digit_one + digit_two)"
   ]
  },
  {
   "cell_type": "markdown",
   "metadata": {},
   "source": [
    "## Mathematical Operators\n",
    "\n",
    "Remember that multipication is done via * as the operand, and also that division will always give you a float as the return value. To do exponents, use `**` "
   ]
  },
  {
   "cell_type": "code",
   "execution_count": 36,
   "metadata": {},
   "outputs": [
    {
     "data": {
      "text/plain": [
       "8"
      ]
     },
     "execution_count": 36,
     "metadata": {},
     "output_type": "execute_result"
    }
   ],
   "source": [
    "2  ** 3"
   ]
  },
  {
   "cell_type": "markdown",
   "metadata": {},
   "source": [
    "Must be careful when you have more than one operand on the same level of code, as PEMDAS always applies to operations on the same line of code. as MD are the same level in Python, the one that happens first is whatever is most to the left. "
   ]
  },
  {
   "cell_type": "code",
   "execution_count": 37,
   "metadata": {},
   "outputs": [
    {
     "data": {
      "text/plain": [
       "7.0"
      ]
     },
     "execution_count": 37,
     "metadata": {},
     "output_type": "execute_result"
    }
   ],
   "source": [
    "3 * 3 + 3 / 3 - 3"
   ]
  },
  {
   "cell_type": "markdown",
   "metadata": {},
   "source": [
    "https://repl.it/@mbarnes1ops/day-2-2-exercise, my solution below."
   ]
  },
  {
   "cell_type": "code",
   "execution_count": 46,
   "metadata": {},
   "outputs": [
    {
     "name": "stdout",
     "output_type": "stream",
     "text": [
      "enter your height in m: 1.5\n",
      "enter your weight in kg: 60\n",
      "26\n",
      "26\n"
     ]
    }
   ],
   "source": [
    "#starting code from repl.it\n",
    "height = input(\"enter your height in m: \")\n",
    "weight = input(\"enter your weight in kg: \")\n",
    "#original solution\n",
    "new_height = float(height)\n",
    "new_weight = int(weight)\n",
    "bmi = new_weight / new_height ** 2\n",
    "print(int(bmi))\n",
    "\n",
    "#less code solution\n",
    "bmi = int(weight) / float(height) ** 2\n",
    "print(int(bmi))\n"
   ]
  }
 ],
 "metadata": {
  "kernelspec": {
   "display_name": "Python 3",
   "language": "python",
   "name": "python3"
  },
  "language_info": {
   "codemirror_mode": {
    "name": "ipython",
    "version": 3
   },
   "file_extension": ".py",
   "mimetype": "text/x-python",
   "name": "python",
   "nbconvert_exporter": "python",
   "pygments_lexer": "ipython3",
   "version": "3.8.5"
  }
 },
 "nbformat": 4,
 "nbformat_minor": 4
}
